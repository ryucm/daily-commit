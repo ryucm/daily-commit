{
  "nbformat": 4,
  "nbformat_minor": 0,
  "metadata": {
    "colab": {
      "name": "220308_baekjoon_1966",
      "provenance": [],
      "authorship_tag": "ABX9TyO5d0fq9Zk8I8w0/bGo2Jmq",
      "include_colab_link": true
    },
    "kernelspec": {
      "name": "python3",
      "display_name": "Python 3"
    },
    "language_info": {
      "name": "python"
    }
  },
  "cells": [
    {
      "cell_type": "markdown",
      "metadata": {
        "id": "view-in-github",
        "colab_type": "text"
      },
      "source": [
        "<a href=\"https://colab.research.google.com/github/ryucm/daily-commit/blob/main/220308_baekjoon_1966.ipynb\" target=\"_parent\"><img src=\"https://colab.research.google.com/assets/colab-badge.svg\" alt=\"Open In Colab\"/></a>"
      ]
    },
    {
      "cell_type": "code",
      "execution_count": 22,
      "metadata": {
        "colab": {
          "base_uri": "https://localhost:8080/"
        },
        "id": "kdnHuBnhDR9V",
        "outputId": "117fdcff-3b57-47d5-866e-2034eeae2796"
      },
      "outputs": [
        {
          "output_type": "stream",
          "name": "stdout",
          "text": [
            "3\n",
            "1 0\n",
            "5\n",
            "1\n",
            "4 2\n",
            "1 2 3 4\n",
            "2\n",
            "6 0\n",
            "1 1 9 1 1 1\n",
            "5\n"
          ]
        }
      ],
      "source": [
        "# 테스트 케이스의 수를 입력 받는다.\n",
        "num = input()\n",
        "\n",
        "def search():\n",
        "  cnt = 0\n",
        "  n,N = map(int,input().split()) #문서의 개수와 문서의 index를 입력 받는다.\n",
        "  priority = list(map(int,input().split())) #문서의 개수만큼 중요도를 입력 받는다.\n",
        "  index = [0 for i in range(n)] #target 위치를 고정시키기 위해 같은 길이의 list를 만들어준다. 또한 항상 첫번째 인덱스를 비교하기 위해 0으로 만든다.\n",
        "  index[N] = 'target' #해당 위치를 target으로 고정시켜준다.\n",
        " \n",
        "  while True:\n",
        "    if priority[0] < max(priority): #첫 번쨰 인덱스를 가장 큰 값으로 계속 비교한다.\n",
        "      priority.append(priority.pop(0)) #가장 큰 값이 아닐경우 맨 뒤로 보낸다.\n",
        "      index.append(index.pop(0)) \n",
        "    elif priority[0] == max(priority): #가장 큰 수일 때 출력한다.\n",
        "      if index[0] == 'target': #target일 경우 종료한다.\n",
        "        cnt += 1\n",
        "        index.pop(0)\n",
        "        priority.pop(0)\n",
        "        return cnt\n",
        "      cnt += 1\n",
        "      priority.pop(0)\n",
        "      index.pop(0)\n",
        "\n",
        "#테스트 케이스를 num만큼 반복한다.\n",
        "for _ in range(int(num)):\n",
        "  print(search())"
      ]
    }
  ]
}