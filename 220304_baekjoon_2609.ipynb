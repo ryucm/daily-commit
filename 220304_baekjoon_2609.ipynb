{
  "nbformat": 4,
  "nbformat_minor": 0,
  "metadata": {
    "colab": {
      "name": "220304_baekjoon_2609",
      "provenance": [],
      "authorship_tag": "ABX9TyMmZBJsdkodBYPoZ42XoYmA",
      "include_colab_link": true
    },
    "kernelspec": {
      "name": "python3",
      "display_name": "Python 3"
    },
    "language_info": {
      "name": "python"
    }
  },
  "cells": [
    {
      "cell_type": "markdown",
      "metadata": {
        "id": "view-in-github",
        "colab_type": "text"
      },
      "source": [
        "<a href=\"https://colab.research.google.com/github/ryucm/daily-commit/blob/main/220304_baekjoon_2609.ipynb\" target=\"_parent\"><img src=\"https://colab.research.google.com/assets/colab-badge.svg\" alt=\"Open In Colab\"/></a>"
      ]
    },
    {
      "cell_type": "code",
      "execution_count": 4,
      "metadata": {
        "colab": {
          "base_uri": "https://localhost:8080/"
        },
        "id": "HJRH_tBO5eWN",
        "outputId": "47066e7e-3fb6-457d-f9e2-4f021b4b2967"
      },
      "outputs": [
        {
          "output_type": "stream",
          "name": "stdout",
          "text": [
            "24 18\n",
            "6\n",
            "72\n"
          ]
        }
      ],
      "source": [
        "N,M = map(int,input().split())\n",
        "\n",
        "def devide(num):\n",
        "  result = []\n",
        "  for i in range(1,num+1):\n",
        "    if num % i == 0:\n",
        "      result.append(i)\n",
        "  return result\n",
        "\n",
        "def multi(N,M):\n",
        "  result_a = []\n",
        "  result_b = []\n",
        "  answer = []\n",
        "  for i in range(1,N+1):\n",
        "    result_a.append(i*M)\n",
        "  for i in range(1,M+1):\n",
        "    result_b.append(i*N)\n",
        "  for i in result_a:\n",
        "    if i in result_b:\n",
        "      answer.append(i)\n",
        "  return min(answer)\n",
        "a = devide(N)\n",
        "b = devide(M)\n",
        "max_div = []\n",
        "for i in a:\n",
        "  if i in b:\n",
        "    max_div.append(i)\n",
        "print(max(max_div))\n",
        "print(multi(N,M))"
      ]
    }
  ]
}