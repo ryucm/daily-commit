{
  "nbformat": 4,
  "nbformat_minor": 0,
  "metadata": {
    "colab": {
      "name": "220311_baekjoon_10816",
      "provenance": [],
      "authorship_tag": "ABX9TyNwtIfId6P2l3zfO7TNiGof",
      "include_colab_link": true
    },
    "kernelspec": {
      "name": "python3",
      "display_name": "Python 3"
    },
    "language_info": {
      "name": "python"
    }
  },
  "cells": [
    {
      "cell_type": "markdown",
      "metadata": {
        "id": "view-in-github",
        "colab_type": "text"
      },
      "source": [
        "<a href=\"https://colab.research.google.com/github/ryucm/daily-commit/blob/main/220311_baekjoon_10816.ipynb\" target=\"_parent\"><img src=\"https://colab.research.google.com/assets/colab-badge.svg\" alt=\"Open In Colab\"/></a>"
      ]
    },
    {
      "cell_type": "code",
      "execution_count": 5,
      "metadata": {
        "colab": {
          "base_uri": "https://localhost:8080/"
        },
        "id": "IcN5Gv2JTfk0",
        "outputId": "f1b1b909-54d3-43f2-eb7e-a141e8c3ee7e"
      },
      "outputs": [
        {
          "output_type": "stream",
          "name": "stdout",
          "text": [
            "10\n",
            "6 3 2 10 10 10 -10 -10 7 3\n",
            "8\n",
            "10 9 -5 2 3 4 5 -10\n",
            "3 0 0 1 2 0 0 2 "
          ]
        }
      ],
      "source": [
        "import sys\n",
        "from collections import Counter\n",
        "\n",
        "\n",
        "#가지고 있는 숫자 카드\n",
        "N = int(input())\n",
        "have_list = list(map(int,input().split()))\n",
        "\n",
        "#구해야 할 정수\n",
        "M = int(input())\n",
        "need_list = list(map(int,input().split()))\n",
        "count = Counter(have_list)\n",
        "for i in need_list:\n",
        "  print(count[i], end = ' ')\n",
        "\n",
        "#Counter 함수 외에도 해시를 사용하거나 이진탐색으로 하는 방법을 추가로 연구해봐야겠다."
      ]
    }
  ]
}