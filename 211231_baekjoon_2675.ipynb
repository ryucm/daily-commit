{
  "nbformat": 4,
  "nbformat_minor": 0,
  "metadata": {
    "colab": {
      "name": "211231_baekjoon_2675",
      "provenance": [],
      "authorship_tag": "ABX9TyNQ2ZVwM3AZwo3JpwPxYQdi",
      "include_colab_link": true
    },
    "kernelspec": {
      "name": "python3",
      "display_name": "Python 3"
    },
    "language_info": {
      "name": "python"
    }
  },
  "cells": [
    {
      "cell_type": "markdown",
      "metadata": {
        "id": "view-in-github",
        "colab_type": "text"
      },
      "source": [
        "<a href=\"https://colab.research.google.com/github/ryucm/daily-commit/blob/main/211231_baekjoon_2675.ipynb\" target=\"_parent\"><img src=\"https://colab.research.google.com/assets/colab-badge.svg\" alt=\"Open In Colab\"/></a>"
      ]
    },
    {
      "cell_type": "markdown",
      "source": [
        "문제\n",
        "문자열 S를 입력받은 후에, 각 문자를 R번 반복해 새 문자열 P를 만든 후 출력하는 프로그램을 작성하시오.    \n",
        "즉, 첫 번째 문자를 R번 반복하고, 두 번째 문자를 R번 반복하는 식으로 P를 만들면 된다. S에는 QR Code \"alphanumeric\" 문자만 들어있다.   \n",
        "\n",
        "QR Code \"alphanumeric\" 문자는 0123456789ABCDEFGHIJKLMNOPQRSTUVWXYZ\\$%*+-./: 이다.   \n",
        "\n",
        "\n",
        "입력\n",
        "\n",
        "첫째 줄에 테스트 케이스의 개수 T(1 ≤ T ≤ 1,000)가 주어진다. 각 테스트 케이스는 반복 횟수 R(1 ≤ R ≤ 8), 문자열 S가 공백으로 구분되어 주어진다. S의 길이는 적어도 1이며, 20글자를 넘지 않는다. \n",
        "\n",
        "출력\n",
        "\n",
        "각 테스트 케이스에 대해 P를 출력한다.\n",
        "\n",
        "예제 입력 1\n",
        "\n",
        "2\n",
        "\n",
        "3 ABC\n",
        "\n",
        "5 /HTP\n",
        "\n",
        "예제 출력 1\n",
        "\n",
        "AAABBBCCC\n",
        "\n",
        "/////HHHHHTTTTTPPPPP\n",
        "\n",
        "\n"
      ],
      "metadata": {
        "id": "WK0dDipt8tR1"
      }
    },
    {
      "cell_type": "code",
      "source": [
        "num = int(input())\n",
        "for i in range(num):\n",
        "  r, s = input().split()\n",
        "  a = s[0]*int(r)\n",
        "  for i in s[1:]:\n",
        "    a += (i*int(r))\n",
        "  print(a)"
      ],
      "metadata": {
        "colab": {
          "base_uri": "https://localhost:8080/"
        },
        "id": "21aJ-9MOv46Y",
        "outputId": "4a3aa6e6-b331-4eb9-93bb-933d8600dafb"
      },
      "execution_count": 21,
      "outputs": [
        {
          "output_type": "stream",
          "name": "stdout",
          "text": [
            "2\n",
            "3 abc\n",
            "aaabbbccc\n",
            "4 ///avcs\n",
            "////////////aaaavvvvccccssss\n"
          ]
        }
      ]
    }
  ]
}