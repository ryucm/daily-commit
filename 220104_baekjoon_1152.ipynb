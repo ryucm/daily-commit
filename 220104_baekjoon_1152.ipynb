{
  "nbformat": 4,
  "nbformat_minor": 0,
  "metadata": {
    "colab": {
      "name": "220104_baekjoon_1152.ipynb",
      "provenance": [],
      "authorship_tag": "ABX9TyNeCeuUV6oTaR3D2IMCEetp",
      "include_colab_link": true
    },
    "kernelspec": {
      "name": "python3",
      "display_name": "Python 3"
    },
    "language_info": {
      "name": "python"
    }
  },
  "cells": [
    {
      "cell_type": "markdown",
      "metadata": {
        "id": "view-in-github",
        "colab_type": "text"
      },
      "source": [
        "<a href=\"https://colab.research.google.com/github/ryucm/daily-commit/blob/main/220104_baekjoon_1152.ipynb\" target=\"_parent\"><img src=\"https://colab.research.google.com/assets/colab-badge.svg\" alt=\"Open In Colab\"/></a>"
      ]
    },
    {
      "cell_type": "markdown",
      "source": [
        "단어의 개수\n",
        "\n",
        "문제\n",
        "\n",
        "영어 대소문자와 공백으로 이루어진 문자열이 주어진다. 이 문자열에는 몇 개의 단어가 있을까? 이를 구하는 프로그램을 작성하시오. 단, 한 단어가 여러 번 등장하면 등장한 횟수만큼 모두 세어야 한다.\n",
        "\n",
        "입력\n",
        "\n",
        "첫 줄에 영어 대소문자와 공백으로 이루어진 문자열이 주어진다. 이 문자열의 길이는 1,000,000을 넘지 않는다. 단어는 공백 한 개로 구분되며, 공백이 연속해서 나오는 경우는 없다. 또한 문자열은 공백으로 시작하거나 끝날 수 있다.\n",
        "\n",
        "출력\n",
        "\n",
        "첫째 줄에 단어의 개수를 출력한다.\n",
        "\n",
        "예제 입력 1 \n",
        "\n",
        "The Curious Case of Benjamin Button\n",
        "\n",
        "예제 출력 1 \n",
        "\n",
        "6\n",
        "\n",
        "예제 입력 2 \n",
        "\n",
        " The first character is a blank\n",
        "\n",
        "예제 출력 2 \n",
        "\n",
        "6\n",
        "\n",
        "예제 입력 3 \n",
        "\n",
        "The last character is a blank \n",
        "\n",
        "예제 출력 3 \n",
        "\n",
        "6"
      ],
      "metadata": {
        "id": "cIwQVgm5CsWl"
      }
    },
    {
      "cell_type": "code",
      "source": [
        "data = input().split()\n",
        "print(len(data))"
      ],
      "metadata": {
        "id": "eKDtcGekcYoz",
        "colab": {
          "base_uri": "https://localhost:8080/"
        },
        "outputId": "f4513687-d28a-4e46-88e3-e24029753026"
      },
      "execution_count": 2,
      "outputs": [
        {
          "output_type": "stream",
          "name": "stdout",
          "text": [
            "The Curious Case of Benjamin Button\n",
            "6\n"
          ]
        }
      ]
    }
  ]
}