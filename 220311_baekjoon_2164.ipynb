{
  "nbformat": 4,
  "nbformat_minor": 0,
  "metadata": {
    "colab": {
      "name": "220311_baekjoon_2164",
      "provenance": [],
      "authorship_tag": "ABX9TyOxf9QRAWuIBNb2hk6hLxq5",
      "include_colab_link": true
    },
    "kernelspec": {
      "name": "python3",
      "display_name": "Python 3"
    },
    "language_info": {
      "name": "python"
    }
  },
  "cells": [
    {
      "cell_type": "markdown",
      "metadata": {
        "id": "view-in-github",
        "colab_type": "text"
      },
      "source": [
        "<a href=\"https://colab.research.google.com/github/ryucm/daily-commit/blob/main/220311_baekjoon_2164.ipynb\" target=\"_parent\"><img src=\"https://colab.research.google.com/assets/colab-badge.svg\" alt=\"Open In Colab\"/></a>"
      ]
    },
    {
      "cell_type": "code",
      "execution_count": 13,
      "metadata": {
        "colab": {
          "base_uri": "https://localhost:8080/"
        },
        "id": "z71tpCExuDxr",
        "outputId": "ab3deb26-a5e2-40a1-892c-387d12402453"
      },
      "outputs": [
        {
          "output_type": "stream",
          "name": "stdout",
          "text": [
            "6\n",
            "4\n"
          ]
        }
      ],
      "source": [
        "import sys\n",
        "from collections import deque\n",
        "\n",
        "#첫 번째 풀이 방법은 단순 List를 사용하여 pop()을 이용하였다.\n",
        "# N = [i for i in range(1,int(input())+1)]\n",
        "\n",
        "# def asc(num):\n",
        "#   while len(num) >= 2:\n",
        "#     num.pop(0)\n",
        "#     num.append(num.pop(0))\n",
        "#   return num[0]\n",
        "# print(asc(N)) 하지만 시간복잡도로 인하여 시간초과...\n",
        "\n",
        "#두 번째 시도는 deque를 활용하였다. 원리는 동일.\n",
        "N = int(input())\n",
        "que = deque()\n",
        "for i in range(1,N+1):\n",
        "  que.append(i)\n",
        "while len(que) >= 2:\n",
        "  que.popleft()\n",
        "  que.append(que.popleft())\n",
        "\n",
        "print(que[0])"
      ]
    }
  ]
}