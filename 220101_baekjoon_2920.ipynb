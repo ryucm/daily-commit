{
  "nbformat": 4,
  "nbformat_minor": 0,
  "metadata": {
    "colab": {
      "name": "220101_baekjoon_2920.ipynb",
      "provenance": [],
      "authorship_tag": "ABX9TyOMPIXEIQ0f9WsIpLDyUcsB",
      "include_colab_link": true
    },
    "kernelspec": {
      "name": "python3",
      "display_name": "Python 3"
    },
    "language_info": {
      "name": "python"
    }
  },
  "cells": [
    {
      "cell_type": "markdown",
      "metadata": {
        "id": "view-in-github",
        "colab_type": "text"
      },
      "source": [
        "<a href=\"https://colab.research.google.com/github/ryucm/daily-commit/blob/main/220101_baekjoon_2920.ipynb\" target=\"_parent\"><img src=\"https://colab.research.google.com/assets/colab-badge.svg\" alt=\"Open In Colab\"/></a>"
      ]
    },
    {
      "cell_type": "markdown",
      "source": [
        "음계 \n",
        "\n",
        "문제\n",
        "\n",
        "다장조는 c d e f g a b C, 총 8개 음으로 이루어져있다. 이 문제에서 8개 음은 다음과 같이 숫자로 바꾸어 표현한다. c는 1로, d는 2로, ..., C를 8로 바꾼다.\n",
        "\n",
        "\n",
        "1부터 8까지 차례대로 연주한다면 ascending, 8부터 1까지 차례대로 연주한다면 descending, 둘 다 아니라면 mixed 이다.\n",
        "\n",
        "연주한 순서가 주어졌을 때, 이것이 ascending인지, descending인지, 아니면 mixed인지 판별하는 프로그램을 작성하시오.\n",
        "\n",
        "입력\n",
        "\n",
        "첫째 줄에 8개 숫자가 주어진다. 이 숫자는 문제 설명에서 설명한 음이며, 1부터 8까지 숫자가 한 번씩 등장한다.\n",
        "\n",
        "출력\n",
        "\n",
        "첫째 줄에 ascending, descending, mixed 중 하나를 출력한다.\n",
        "\n",
        "예제 입력 1 \n",
        "\n",
        "1 2 3 4 5 6 7 8\n",
        "예제 출력 1 \n",
        "\n",
        "ascending\n",
        "\n",
        "예제 입력 2 \n",
        "\n",
        "8 7 6 5 4 3 2 1\n",
        "예제 출력 2 \n",
        "\n",
        "descending\n",
        "\n",
        "예제 입력 3 \n",
        "\n",
        "8 1 7 2 6 3 5 4\n",
        "\n",
        "예제 출력 3 \n",
        "\n",
        "mixed"
      ],
      "metadata": {
        "id": "COqCKx51lt1o"
      }
    },
    {
      "cell_type": "code",
      "execution_count": 9,
      "metadata": {
        "colab": {
          "base_uri": "https://localhost:8080/"
        },
        "id": "3w48HGH9g00s",
        "outputId": "a9403d83-7190-4ad4-eee6-ba2bc0a3b290"
      },
      "outputs": [
        {
          "output_type": "stream",
          "name": "stdout",
          "text": [
            "1 2 3 4 5 6 7 8\n",
            "ascending\n",
            "True\n"
          ]
        }
      ],
      "source": [
        "temp = list(map(int,input().split()))\n",
        "if temp == list(range(1,9)):\n",
        "  print('ascending')\n",
        "elif temp == list(range(8,0,-1)):\n",
        "  print('descending')\n",
        "else:\n",
        "  print('mixed')"
      ]
    },
    {
      "cell_type": "markdown",
      "source": [
        "다른 사람들의 코딩"
      ],
      "metadata": {
        "id": "KSAJhIGAmD75"
      }
    },
    {
      "cell_type": "code",
      "source": [
        "a=input()[::2] #문자열 슬라이싱을 통해 공백을 제거해준다.\n",
        "print({a:\"mixed\",\"12345678\":\"ascending\",\"87654321\":\"descending\"}[a]) #딕셔너리 형태로 넣어 간단하게 만든다."
      ],
      "metadata": {
        "id": "jx7LzTs1l_gq"
      },
      "execution_count": null,
      "outputs": []
    }
  ]
}