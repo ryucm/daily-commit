{
  "nbformat": 4,
  "nbformat_minor": 0,
  "metadata": {
    "colab": {
      "name": "220307_baekjoon_1929",
      "provenance": [],
      "authorship_tag": "ABX9TyPVkrbfv4mJqb5Gt9I7OkCn",
      "include_colab_link": true
    },
    "kernelspec": {
      "name": "python3",
      "display_name": "Python 3"
    },
    "language_info": {
      "name": "python"
    }
  },
  "cells": [
    {
      "cell_type": "markdown",
      "metadata": {
        "id": "view-in-github",
        "colab_type": "text"
      },
      "source": [
        "<a href=\"https://colab.research.google.com/github/ryucm/daily-commit/blob/main/220307_baekjoon_1929.ipynb\" target=\"_parent\"><img src=\"https://colab.research.google.com/assets/colab-badge.svg\" alt=\"Open In Colab\"/></a>"
      ]
    },
    {
      "cell_type": "code",
      "execution_count": 7,
      "metadata": {
        "colab": {
          "base_uri": "https://localhost:8080/"
        },
        "id": "olRG7zXNoKX0",
        "outputId": "2c2a2626-3b6a-4f5c-f4d4-60b2796e488e"
      },
      "outputs": [
        {
          "output_type": "stream",
          "name": "stdout",
          "text": [
            "3 16\n",
            "3\n",
            "5\n",
            "7\n",
            "11\n",
            "13\n"
          ]
        }
      ],
      "source": [
        "#에라토스테네스의 체 사용\n",
        "\n",
        "n, N = map(int,input().split()) #범위를 입력 받는다.\n",
        "\n",
        "def asb(n):\n",
        "  if n == 1: #1은 소수가 아니므로 Pass\n",
        "    return False\n",
        "  else:\n",
        "    for i in range(2,int((n**0.5))+1): #제곱근까지 모든 수를 나누어보고 나누어지면 false, 아니면 자기자신이므로 true\n",
        "      if n%i == 0:\n",
        "        return False\n",
        "    return True\n",
        "\n",
        "for i in range(n,N+1):\n",
        "  if asb(i):\n",
        "    print(i)\n",
        "\n"
      ]
    }
  ]
}