{
  "nbformat": 4,
  "nbformat_minor": 0,
  "metadata": {
    "colab": {
      "name": "220107_baekjoon_1157.ipynb",
      "provenance": [],
      "collapsed_sections": [],
      "authorship_tag": "ABX9TyOUUFYMvzc+rlu1rvAPwbX3",
      "include_colab_link": true
    },
    "kernelspec": {
      "name": "python3",
      "display_name": "Python 3"
    },
    "language_info": {
      "name": "python"
    }
  },
  "cells": [
    {
      "cell_type": "markdown",
      "metadata": {
        "id": "view-in-github",
        "colab_type": "text"
      },
      "source": [
        "<a href=\"https://colab.research.google.com/github/ryucm/daily-commit/blob/main/220107_baekjoon_1157.ipynb\" target=\"_parent\"><img src=\"https://colab.research.google.com/assets/colab-badge.svg\" alt=\"Open In Colab\"/></a>"
      ]
    },
    {
      "cell_type": "markdown",
      "source": [
        "단어 공부\n",
        "\n",
        "문제\n",
        "\n",
        "알파벳 대소문자로 된 단어가 주어지면, 이 단어에서 가장 많이 사용된 \n",
        "알파벳이 무엇인지 알아내는 프로그램을 작성하시오. 단, 대문자와 소문자를 구분하지 않는다.\n",
        "\n",
        "입력\n",
        "\n",
        "첫째 줄에 알파벳 대소문자로 이루어진 단어가 주어진다. 주어지는 단어의 길이는 1,000,000을 넘지 않는다.\n",
        "\n",
        "출력\n",
        "\n",
        "첫째 줄에 이 단어에서 가장 많이 사용된 알파벳을 대문자로 출력한다. 단, 가장 많이 사용된 알파벳이 여러 개 존재하는 경우에는 ?를 출력한다.\n",
        "\n",
        "예제\n",
        "\n",
        "입력 1\n",
        "\n",
        "Mississipi\n",
        "\n",
        "예제 \n",
        "\n",
        "출력 1 \n",
        "\n",
        "?\n",
        "\n",
        "예제 \n",
        "\n",
        "입력 2 \n",
        "\n",
        "zZa\n",
        "\n",
        "예제 \n",
        "\n",
        "출력 2 \n",
        "\n",
        "Z\n",
        "\n",
        "예제 \n",
        "\n",
        "입력 3 \n",
        "\n",
        "z\n",
        "\n",
        "예제 \n",
        "\n",
        "출력 3 \n",
        "\n",
        "Z\n",
        "\n",
        "예제 \n",
        "\n",
        "입력 4 \n",
        "\n",
        "baaa\n",
        "\n",
        "예제 \n",
        "\n",
        "출력 4 \n",
        "\n",
        "A"
      ],
      "metadata": {
        "id": "G8MYzMFvTiZ3"
      }
    },
    {
      "cell_type": "markdown",
      "source": [
        "내 코딩"
      ],
      "metadata": {
        "id": "bfDpipaiTjUu"
      }
    },
    {
      "cell_type": "code",
      "execution_count": 36,
      "metadata": {
        "colab": {
          "base_uri": "https://localhost:8080/"
        },
        "id": "P47F7c-SMQKc",
        "outputId": "d30bd543-dfa0-4225-f611-d0430c75d95b"
      },
      "outputs": [
        {
          "output_type": "stream",
          "name": "stdout",
          "text": [
            "a\n",
            "A\n"
          ]
        }
      ],
      "source": [
        "from collections import Counter\n",
        "a = input().upper()\n",
        "b = Counter(a).most_common(2)\n",
        "try:\n",
        "  if b[0][1] == b[1][1]:\n",
        "    print('?')\n",
        "  else:\n",
        "    print(b[0][0])\n",
        "except:\n",
        "  print(b[0][0])"
      ]
    },
    {
      "cell_type": "markdown",
      "source": [
        "숏 코딩"
      ],
      "metadata": {
        "id": "j9WZVYtcTkwH"
      }
    },
    {
      "cell_type": "code",
      "source": [
        "from statistics import*\n",
        "try:t=mode(input().upper())\n",
        "except:t='?'\n",
        "print(t)"
      ],
      "metadata": {
        "colab": {
          "base_uri": "https://localhost:8080/"
        },
        "id": "WfpmBpptTZeA",
        "outputId": "dcc5e31e-9113-493f-94ea-132ea2615d73"
      },
      "execution_count": 37,
      "outputs": [
        {
          "output_type": "stream",
          "name": "stdout",
          "text": [
            "Mississipi\n",
            "?\n"
          ]
        }
      ]
    },
    {
      "cell_type": "markdown",
      "source": [
        "mode 함수는 최빈값이 중복이 될 경우 error가 나타난다. 통계 함수를 잘 알아두자!!"
      ],
      "metadata": {
        "id": "ngG14z2wTaI9"
      }
    }
  ]
}