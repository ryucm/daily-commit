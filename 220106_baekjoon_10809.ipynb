{
  "nbformat": 4,
  "nbformat_minor": 0,
  "metadata": {
    "colab": {
      "name": "220106_baekjoon_10809.ipynb",
      "provenance": [],
      "authorship_tag": "ABX9TyPOoXnj1JkBnqVKFHvFtQdP",
      "include_colab_link": true
    },
    "kernelspec": {
      "name": "python3",
      "display_name": "Python 3"
    },
    "language_info": {
      "name": "python"
    }
  },
  "cells": [
    {
      "cell_type": "markdown",
      "metadata": {
        "id": "view-in-github",
        "colab_type": "text"
      },
      "source": [
        "<a href=\"https://colab.research.google.com/github/ryucm/daily-commit/blob/main/220106_baekjoon_10809.ipynb\" target=\"_parent\"><img src=\"https://colab.research.google.com/assets/colab-badge.svg\" alt=\"Open In Colab\"/></a>"
      ]
    },
    {
      "cell_type": "markdown",
      "source": [
        "알파벳 찾기\n",
        "\n",
        "문제\n",
        "\n",
        "\n",
        "알파벳 소문자로만 이루어진 단어 S가 주어진다. 각각의 알파벳에 대해서, 단어에 포함되어 있는 경우에는 처음 등장하는 위치를, 포함되어 있지 않은 경우에는 -1을 출력하는 프로그램을 작성하시오.\n",
        "\n",
        "\n",
        "입력\n",
        "\n",
        "첫째 줄에 단어 S가 주어진다. 단어의 길이는 100을 넘지 않으며, 알파벳 소문자로만 이루어져 있다.\n",
        "\n",
        "\n",
        "\n",
        "출력\n",
        "\n",
        "각각의 알파벳에 대해서, a가 처음 등장하는 위치, b가 처음 등장하는 위치, ... z가 처음 등장하는 위치를 공백으로 구분해서 출력한다.\n",
        "\n",
        "만약, 어떤 알파벳이 단어에 포함되어 있지 않다면 -1을 출력한다. 단어의 첫 번째 글자는 0번째 위치이고, 두 번째 글자는 1번째 위치이다.\n",
        "\n",
        "\n",
        "예제 \n",
        "\n",
        "입력 1 \n",
        "\n",
        "baekjoon\n",
        "\n",
        "예제 \n",
        "\n",
        "출력 1 \n",
        "\n",
        "1 0 -1 -1 2 -1 -1 -1 -1 4 3 -1 -1 7 5 -1 -1 -1 -1 -1 -1 -1 -1 -1 -1 -1"
      ],
      "metadata": {
        "id": "rG8bAtrUMn4E"
      }
    },
    {
      "cell_type": "code",
      "execution_count": 11,
      "metadata": {
        "colab": {
          "base_uri": "https://localhost:8080/"
        },
        "id": "yyQ00TTZD2N2",
        "outputId": "a76addb0-2d48-4f90-93b8-c8c0a207ae4c"
      },
      "outputs": [
        {
          "output_type": "stream",
          "name": "stdout",
          "text": [
            "baekjoon\n",
            "1 0 -1 -1 2 -1 -1 -1 -1 4 3 -1 -1 7 5 -1 -1 -1 -1 -1 -1 -1 -1 -1 -1 -1\n"
          ]
        }
      ],
      "source": [
        "from string import ascii_lowercase\n",
        "\n",
        "a = input()\n",
        "dic = {}\n",
        "cnt = 0\n",
        "for i in a:\n",
        "  if i not in dic.keys():\n",
        "    dic[i] = cnt\n",
        "  cnt += 1\n",
        "\n",
        "answer = []\n",
        "for i in ascii_lowercase:\n",
        "  if i not in dic.keys():\n",
        "    answer.append(-1)\n",
        "  else:\n",
        "    answer.append(dic[i])\n",
        "\n",
        "print(*answer)"
      ]
    },
    {
      "cell_type": "code",
      "source": [
        "string = input()\n",
        "alphabet = \"abcdefghijklmnopqrstuvwxyz\"\n",
        "for i in alphabet:\n",
        "    print(string.find(i), end = ' ')"
      ],
      "metadata": {
        "colab": {
          "base_uri": "https://localhost:8080/"
        },
        "id": "l7Xe-x45MLFZ",
        "outputId": "f45678c2-896c-4b3d-c634-9ac22702dafb"
      },
      "execution_count": 12,
      "outputs": [
        {
          "output_type": "stream",
          "name": "stdout",
          "text": [
            "baekjoon\n",
            "1 0 -1 -1 2 -1 -1 -1 -1 4 3 -1 -1 7 5 -1 -1 -1 -1 -1 -1 -1 -1 -1 -1 -1 "
          ]
        }
      ]
    }
  ]
}