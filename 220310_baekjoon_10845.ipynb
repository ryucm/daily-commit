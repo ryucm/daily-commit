{
  "nbformat": 4,
  "nbformat_minor": 0,
  "metadata": {
    "colab": {
      "name": "220310_baekjoon_10845",
      "provenance": [],
      "authorship_tag": "ABX9TyNYoukkp6BGQVPTxty3ETwH",
      "include_colab_link": true
    },
    "kernelspec": {
      "name": "python3",
      "display_name": "Python 3"
    },
    "language_info": {
      "name": "python"
    }
  },
  "cells": [
    {
      "cell_type": "markdown",
      "metadata": {
        "id": "view-in-github",
        "colab_type": "text"
      },
      "source": [
        "<a href=\"https://colab.research.google.com/github/ryucm/daily-commit/blob/main/220310_baekjoon_10845.ipynb\" target=\"_parent\"><img src=\"https://colab.research.google.com/assets/colab-badge.svg\" alt=\"Open In Colab\"/></a>"
      ]
    },
    {
      "cell_type": "code",
      "execution_count": 8,
      "metadata": {
        "colab": {
          "base_uri": "https://localhost:8080/"
        },
        "id": "B0A2wfGW3Ufq",
        "outputId": "e7e847e3-a5ea-4e87-cf26-3ddd0f031a5e"
      },
      "outputs": [
        {
          "output_type": "stream",
          "name": "stdout",
          "text": [
            "\n"
          ]
        }
      ],
      "source": [
        "import sys\n",
        "\n",
        "def push(result, num):\n",
        "  result.append(int(num))\n",
        "  return result\n",
        "\n",
        "def front(result, num):\n",
        "  if result:\n",
        "    print(result[0])\n",
        "  else:\n",
        "    print(-1)\n",
        "\n",
        "def back(result, num):\n",
        "  if result:\n",
        "    print(result[-1])\n",
        "  else:\n",
        "    print(-1)\n",
        "\n",
        "def pops(result, num):\n",
        "  if result:\n",
        "    print(result.pop(0))\n",
        "  else:\n",
        "    print(-1)\n",
        "\n",
        "def size(result, num):\n",
        "  print(len(result))\n",
        "\n",
        "def empty(result, num):\n",
        "  if result:\n",
        "    print(0)\n",
        "  else:\n",
        "    print(1)\n",
        "\n",
        "N = sys.stdin.readline() #코랩에서는 sys.stdin.readline()로 입력 받는 것이 되지 않는다. 하지만 input으로 입력 받을 경우 시간초과가 뜨므로 반드시 사용해야 한다.\n",
        "print(N)\n",
        "result = []\n",
        "orders = {'push' : push, 'back' : back, 'pop' : pops, 'size' : size, 'empty' : empty, 'front' : front} #조건문 보다 dict가 더 빠르다.\n",
        "for i in range(int(N)):\n",
        "  order = list(sys.stdin.readline.split())\n",
        "  orders[order[0]](result, order[-1])\n",
        "\n"
      ]
    },
    {
      "cell_type": "code",
      "source": [
        ""
      ],
      "metadata": {
        "id": "4cYyo1S2Oql3"
      },
      "execution_count": null,
      "outputs": []
    }
  ]
}