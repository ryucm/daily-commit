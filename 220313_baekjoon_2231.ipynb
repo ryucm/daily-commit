{
  "nbformat": 4,
  "nbformat_minor": 0,
  "metadata": {
    "colab": {
      "name": "220313_baekjoon_2231",
      "provenance": [],
      "authorship_tag": "ABX9TyNA970nTqpjysReEIUdCTjw",
      "include_colab_link": true
    },
    "kernelspec": {
      "name": "python3",
      "display_name": "Python 3"
    },
    "language_info": {
      "name": "python"
    }
  },
  "cells": [
    {
      "cell_type": "markdown",
      "metadata": {
        "id": "view-in-github",
        "colab_type": "text"
      },
      "source": [
        "<a href=\"https://colab.research.google.com/github/ryucm/daily-commit/blob/main/220313_baekjoon_2231.ipynb\" target=\"_parent\"><img src=\"https://colab.research.google.com/assets/colab-badge.svg\" alt=\"Open In Colab\"/></a>"
      ]
    },
    {
      "cell_type": "code",
      "execution_count": 14,
      "metadata": {
        "colab": {
          "base_uri": "https://localhost:8080/"
        },
        "id": "FH5lqyBmsFQz",
        "outputId": "10a235ba-e3a9-4249-cbc0-edd5b8070631"
      },
      "outputs": [
        {
          "output_type": "stream",
          "name": "stdout",
          "text": [
            "216\n",
            "198\n"
          ]
        }
      ],
      "source": [
        "N = int(input())\n",
        "\n",
        "def search(N):\n",
        "  for i in range(1,1+N):\n",
        "    result = i + sum(map(int,list(str(i))))\n",
        "    if result == N:\n",
        "      return i\n",
        "  return 0\n",
        "\n",
        "print(search(N))\n",
        "  \n"
      ]
    }
  ]
}