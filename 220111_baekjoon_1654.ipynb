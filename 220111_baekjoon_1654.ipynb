{
  "nbformat": 4,
  "nbformat_minor": 0,
  "metadata": {
    "colab": {
      "name": "220111_baekjoon_1654",
      "provenance": [],
      "authorship_tag": "ABX9TyMNnnCeU/8c27IqGoE8161p",
      "include_colab_link": true
    },
    "kernelspec": {
      "name": "python3",
      "display_name": "Python 3"
    },
    "language_info": {
      "name": "python"
    }
  },
  "cells": [
    {
      "cell_type": "markdown",
      "metadata": {
        "id": "view-in-github",
        "colab_type": "text"
      },
      "source": [
        "<a href=\"https://colab.research.google.com/github/ryucm/daily-commit/blob/main/220111_baekjoon_1654.ipynb\" target=\"_parent\"><img src=\"https://colab.research.google.com/assets/colab-badge.svg\" alt=\"Open In Colab\"/></a>"
      ]
    },
    {
      "cell_type": "markdown",
      "source": [
        "랜선 자르기 \n",
        "\n",
        "문제\n",
        "\n",
        "집에서 시간을 보내던 오영식은 박성원의 부름을 받고 급히 달려왔다. 박성원이 캠프 때 쓸 N개의 랜선을 만들어야 하는데 너무 바빠서 영식이에게 도움을 청했다.\n",
        "\n",
        "이미 오영식은 자체적으로 K개의 랜선을 가지고 있다. 그러나 K개의 랜선은 길이가 제각각이다. 박성원은 랜선을 모두 N개의 같은 길이의 랜선으로 만들고 싶었기 때문에 K개의 랜선을 잘라서 만들어야 한다. 예를 들어 300cm 짜리 랜선에서 140cm 짜리 랜선을 두 개 잘라내면 20cm는 버려야 한다. (이미 자른 랜선은 붙일 수 없다.)\n",
        "\n",
        "편의를 위해 랜선을 자르거나 만들 때 손실되는 길이는 없다고 가정하며, 기존의 K개의 랜선으로 N개의 랜선을 만들 수 없는 경우는 없다고 가정하자. 그리고 자를 때는 항상 센티미터 단위로 정수길이만큼 자른다고 가정하자. N개보다 많이 만드는 것도 N개를 만드는 것에 포함된다. 이때 만들 수 있는 최대 랜선의 길이를 구하는 프로그램을 작성하시오.\n",
        "\n",
        "입력\n",
        "\n",
        "첫째 줄에는 오영식이 이미 가지고 있는 랜선의 개수 K, 그리고 필요한 랜선의 개수 N이 입력된다. K는 1이상 10,000이하의 정수이고, N은 1이상 1,000,000이하의 정수이다. 그리고 항상 K ≦ N 이다. 그 후 K줄에 걸쳐 이미 가지고 있는 각 랜선의 길이가 센티미터 단위의 정수로 입력된다. 랜선의 길이는 231-1보다 작거나 같은 자연수이다.\n",
        "\n",
        "출력\n",
        "\n",
        "첫째 줄에 N개를 만들 수 있는 랜선의 최대 길이를 센티미터 단위의 정수로 출력한다.\n",
        "\n",
        "예제 입력 1 \n",
        "\n",
        "4 11\n",
        "\n",
        "802\n",
        "\n",
        "743\n",
        "\n",
        "457\n",
        "\n",
        "539\n",
        "\n",
        "예제 출력 1 \n",
        "\n",
        "200"
      ],
      "metadata": {
        "id": "AAL6c5-vQjcU"
      }
    },
    {
      "cell_type": "code",
      "execution_count": 5,
      "metadata": {
        "colab": {
          "base_uri": "https://localhost:8080/"
        },
        "id": "OFdmTHvufLdi",
        "outputId": "3edd141c-868e-4857-bf51-3d50e4daa7fc"
      },
      "outputs": [
        {
          "output_type": "stream",
          "name": "stdout",
          "text": [
            "4 11\n",
            "802\n",
            "777\n",
            "444\n",
            "539\n",
            "201 200 201\n"
          ]
        }
      ],
      "source": [
        "k,n = map(int,input().split())\n",
        "num = [int(input()) for i in range(k)]\n",
        "start, end = 1, max(num)\n",
        "\n",
        "while (start<=end):\n",
        "  mininum = []\n",
        "  mid = (start+end)//2\n",
        "  for i in num:\n",
        "    mininum.append(i//mid)\n",
        "  if sum(mininum) >= n:\n",
        "    start = mid+1\n",
        "  else:\n",
        "    end = mid-1\n",
        "print(end)\n"
      ]
    },
    {
      "cell_type": "code",
      "source": [
        ""
      ],
      "metadata": {
        "id": "z2jBTIJCPqqv"
      },
      "execution_count": null,
      "outputs": []
    }
  ]
}