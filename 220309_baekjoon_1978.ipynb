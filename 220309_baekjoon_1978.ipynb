{
  "nbformat": 4,
  "nbformat_minor": 0,
  "metadata": {
    "colab": {
      "name": "220309_baekjoon_1978",
      "provenance": [],
      "authorship_tag": "ABX9TyOHTs5BHPcQGc/CzG2JuDwe",
      "include_colab_link": true
    },
    "kernelspec": {
      "name": "python3",
      "display_name": "Python 3"
    },
    "language_info": {
      "name": "python"
    }
  },
  "cells": [
    {
      "cell_type": "markdown",
      "metadata": {
        "id": "view-in-github",
        "colab_type": "text"
      },
      "source": [
        "<a href=\"https://colab.research.google.com/github/ryucm/daily-commit/blob/main/220309_baekjoon_1978.ipynb\" target=\"_parent\"><img src=\"https://colab.research.google.com/assets/colab-badge.svg\" alt=\"Open In Colab\"/></a>"
      ]
    },
    {
      "cell_type": "code",
      "execution_count": null,
      "metadata": {
        "id": "rT0lb3zFZpK2"
      },
      "outputs": [],
      "source": [
        ""
      ]
    },
    {
      "cell_type": "code",
      "source": [
        "def search(num):\n",
        "  if num == 1:\n",
        "    return False\n",
        "  else:\n",
        "    for j in range(2,int(num**0.5)+1):\n",
        "      if num % j ==0:\n",
        "        return False\n",
        "    return num\n",
        "\n",
        "N = input() \n",
        "num = list(map(int,input().split()))\n",
        "print(len([search(i) for i in num if search(i) is not False]))"
      ],
      "metadata": {
        "colab": {
          "base_uri": "https://localhost:8080/"
        },
        "id": "oGiJE3-DZuPN",
        "outputId": "c44d52d8-0548-4471-b40d-94eee8977aa6"
      },
      "execution_count": 11,
      "outputs": [
        {
          "output_type": "stream",
          "name": "stdout",
          "text": [
            "4\n",
            "1 2 3 5\n",
            "3\n"
          ]
        }
      ]
    },
    {
      "cell_type": "code",
      "source": [
        ""
      ],
      "metadata": {
        "id": "hy1kSOGGL2QF"
      },
      "execution_count": 11,
      "outputs": []
    }
  ]
}