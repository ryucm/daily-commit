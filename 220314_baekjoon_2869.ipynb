{
  "nbformat": 4,
  "nbformat_minor": 0,
  "metadata": {
    "colab": {
      "name": "220314_baekjoon_2869",
      "provenance": [],
      "authorship_tag": "ABX9TyOSLqWjrGi5unAlNkGcMhoM",
      "include_colab_link": true
    },
    "kernelspec": {
      "name": "python3",
      "display_name": "Python 3"
    },
    "language_info": {
      "name": "python"
    }
  },
  "cells": [
    {
      "cell_type": "markdown",
      "metadata": {
        "id": "view-in-github",
        "colab_type": "text"
      },
      "source": [
        "<a href=\"https://colab.research.google.com/github/ryucm/daily-commit/blob/main/220314_baekjoon_2869.ipynb\" target=\"_parent\"><img src=\"https://colab.research.google.com/assets/colab-badge.svg\" alt=\"Open In Colab\"/></a>"
      ]
    },
    {
      "cell_type": "code",
      "execution_count": 2,
      "metadata": {
        "id": "E9n8bqd-GLEU",
        "colab": {
          "base_uri": "https://localhost:8080/"
        },
        "outputId": "decb76d5-8cb6-4af4-e379-f0891c2d5750"
      },
      "outputs": [
        {
          "output_type": "stream",
          "name": "stdout",
          "text": [
            "2 1 5\n",
            "4\n"
          ]
        }
      ],
      "source": [
        "import math\n",
        "\n",
        "A, B, V = map(int,input().split())\n",
        "print(math.ceil((V-B)/(A-B)))\n"
      ]
    }
  ]
}