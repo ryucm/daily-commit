{
  "nbformat": 4,
  "nbformat_minor": 0,
  "metadata": {
    "colab": {
      "name": "220113_beakjoon_2798",
      "provenance": [],
      "authorship_tag": "ABX9TyMvwwBrtN5kbXOL6bHwbNpn",
      "include_colab_link": true
    },
    "kernelspec": {
      "name": "python3",
      "display_name": "Python 3"
    },
    "language_info": {
      "name": "python"
    }
  },
  "cells": [
    {
      "cell_type": "markdown",
      "metadata": {
        "id": "view-in-github",
        "colab_type": "text"
      },
      "source": [
        "<a href=\"https://colab.research.google.com/github/ryucm/daily-commit/blob/main/220113_beakjoon_2798.ipynb\" target=\"_parent\"><img src=\"https://colab.research.google.com/assets/colab-badge.svg\" alt=\"Open In Colab\"/></a>"
      ]
    },
    {
      "cell_type": "markdown",
      "source": [
        "블랙잭\n",
        "\n",
        "문제\n",
        "카지노에서 제일 인기 있는 게임 블랙잭의 규칙은 상당히 쉽다. 카드의 합이 21을 넘지 않는 한도 내에서, 카드의 합을 최대한 크게 만드는 게임이다. 블랙잭은 카지노마다 다양한 규정이 있다.\n",
        "\n",
        "한국 최고의 블랙잭 고수 김정인은 새로운 블랙잭 규칙을 만들어 상근, 창영이와 게임하려고 한다.\n",
        "\n",
        "김정인 버전의 블랙잭에서 각 카드에는 양의 정수가 쓰여 있다. 그 다음, 딜러는 N장의 카드를 모두 숫자가 보이도록 바닥에 놓는다. 그런 후에 딜러는 숫자 M을 크게 외친다.\n",
        "\n",
        "이제 플레이어는 제한된 시간 안에 N장의 카드 중에서 3장의 카드를 골라야 한다. 블랙잭 변형 게임이기 때문에, 플레이어가 고른 카드의 합은 M을 넘지 않으면서 M과 최대한 가깝게 만들어야 한다.\n",
        "\n",
        "N장의 카드에 써져 있는 숫자가 주어졌을 때, M을 넘지 않으면서 M에 최대한 가까운 카드 3장의 합을 구해 출력하시오.\n",
        "\n",
        "입력\n",
        "\n",
        "첫째 줄에 카드의 개수 N(3 ≤ N ≤ 100)과 M(10 ≤ M ≤ 300,000)이 주어진다. 둘째 줄에는 카드에 쓰여 있는 수가 주어지며, 이 값은 100,000을 넘지 않는 양의 정수이다.\n",
        "\n",
        "합이 M을 넘지 않는 카드 3장을 찾을 수 있는 경우만 입력으로 주어진다.\n",
        "\n",
        "출력\n",
        "\n",
        "첫째 줄에 M을 넘지 않으면서 M에 최대한 가까운 카드 3장의 합을 출력한다.\n",
        "\n",
        "예제 입력 1 \n",
        "\n",
        "5 21\n",
        "\n",
        "5 6 7 8 9\n",
        "\n",
        "예제 출력 1 \n",
        "\n",
        "21\n",
        "\n",
        "예제 입력 2 \n",
        "\n",
        "10 500\n",
        "\n",
        "93 181 245 214 315 36 185 138 216 295\n",
        "\n",
        "예제 출력 2 \n",
        "\n",
        "497"
      ],
      "metadata": {
        "id": "xzQ_hk0OkdiG"
      }
    },
    {
      "cell_type": "code",
      "execution_count": 11,
      "metadata": {
        "colab": {
          "base_uri": "https://localhost:8080/"
        },
        "id": "uwb6VHg2qrDI",
        "outputId": "e32c26a1-ac71-4b31-8b6a-26ebfc691f37"
      },
      "outputs": [
        {
          "output_type": "stream",
          "name": "stdout",
          "text": [
            "5 21\n",
            "5 6 7 8 9\n",
            "21\n"
          ]
        }
      ],
      "source": [
        "from itertools import combinations\n",
        "\n",
        "a, b = map(int, input().split())\n",
        "num = list(map(int,input().split()))\n",
        "num = list(combinations(num,3))\n",
        "result = []\n",
        "for i in num:\n",
        "  if sum(i) <= b:\n",
        "    result.append(sum(i))\n",
        "print(max(result))"
      ]
    }
  ]
}