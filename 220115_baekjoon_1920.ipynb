{
  "nbformat": 4,
  "nbformat_minor": 0,
  "metadata": {
    "colab": {
      "name": "220115_baekjoon_1920",
      "provenance": [],
      "authorship_tag": "ABX9TyP0zUKrUWeUCygQspoGVy08",
      "include_colab_link": true
    },
    "kernelspec": {
      "name": "python3",
      "display_name": "Python 3"
    },
    "language_info": {
      "name": "python"
    }
  },
  "cells": [
    {
      "cell_type": "markdown",
      "metadata": {
        "id": "view-in-github",
        "colab_type": "text"
      },
      "source": [
        "<a href=\"https://colab.research.google.com/github/ryucm/daily-commit/blob/main/220115_baekjoon_1920.ipynb\" target=\"_parent\"><img src=\"https://colab.research.google.com/assets/colab-badge.svg\" alt=\"Open In Colab\"/></a>"
      ]
    },
    {
      "cell_type": "markdown",
      "source": [
        "수 찾기 성공\n",
        "\n",
        "문제\n",
        "\n",
        "N개의 정수 A[1], A[2], …, A[N]이 주어져 있을 때, 이 안에 X라는 정수가 존재하는지 알아내는 프로그램을 작성하시오.\n",
        "\n",
        "입력\n",
        "\n",
        "첫째 줄에 자연수 N(1 ≤ N ≤ 100,000)이 주어진다. 다음 줄에는 N개의 정수 A[1], A[2], …, A[N]이 주어진다. 다음 줄에는 M(1 ≤ M ≤ 100,000)이 주어진다. 다음 줄에는 M개의 수들이 주어지는데, 이 수들이 A안에 존재하는지 알아내면 된다. 모든 정수의 범위는 -231 보다 크거나 같고 231보다 작다.\n",
        "\n",
        "출력\n",
        "\n",
        "M개의 줄에 답을 출력한다. 존재하면 1을, 존재하지 않으면 0을 출력한다.\n",
        "\n",
        "예제 입력 1 \n",
        "\n",
        "5\n",
        "\n",
        "4 1 5 2 3\n",
        "\n",
        "5\n",
        "\n",
        "1 3 7 9 5\n",
        "\n",
        "예제 출력 1 \n",
        "\n",
        "1\n",
        "\n",
        "1\n",
        "\n",
        "0\n",
        "\n",
        "0\n",
        "\n",
        "1"
      ],
      "metadata": {
        "id": "s0lwubkOK-nd"
      }
    },
    {
      "cell_type": "code",
      "source": [
        "a = int(input())\n",
        "a_1 = list(map(int,input().split()))\n",
        "b = int(input())\n",
        "b_1 = list(map(int,input().split()))\n",
        "for i in b_1:\n",
        "  if i in a_1:\n",
        "    print(1)\n",
        "  else:\n",
        "    print(0)"
      ],
      "metadata": {
        "colab": {
          "base_uri": "https://localhost:8080/"
        },
        "id": "Swaz6UnkLLLE",
        "outputId": "cc0555d4-3fe3-4c11-c6e3-63805c18d4cf"
      },
      "execution_count": 1,
      "outputs": [
        {
          "output_type": "stream",
          "name": "stdout",
          "text": [
            "5\n",
            "4 1 5 2 3\n",
            "5\n",
            "1 3 7 9 5\n",
            "1\n",
            "1\n",
            "0\n",
            "0\n",
            "1\n"
          ]
        }
      ]
    },
    {
      "cell_type": "markdown",
      "source": [
        "첫 번째 시도는 위와 같다.\n",
        "시간 초과 오류가 뜨길래 왜 틀렸을까 한참을 고민했는데, 이제는 문제를 풀 때 시간복잡도를 고려해야 하나보다."
      ],
      "metadata": {
        "id": "FGoaqR69LL9k"
      }
    },
    {
      "cell_type": "code",
      "execution_count": 2,
      "metadata": {
        "colab": {
          "base_uri": "https://localhost:8080/"
        },
        "id": "zKCfvYQHKzgY",
        "outputId": "8e798a6b-a7fd-4fdf-9e9f-a976c93c11a4"
      },
      "outputs": [
        {
          "output_type": "stream",
          "name": "stdout",
          "text": [
            "5\n",
            "4 1 5 2 3\n",
            "5\n",
            "1 3 7 9 5\n",
            "1\n",
            "1\n",
            "0\n",
            "0\n",
            "1\n"
          ]
        }
      ],
      "source": [
        "n = int(input())\n",
        "n_list = list(map(int, input().split(' ')))\n",
        "n_list.sort()\n",
        "\n",
        "m = int(input())\n",
        "targets = list(map(int, input().split(' ')))\n",
        "\n",
        "\n",
        "def binary(target):\n",
        "    left = 0\n",
        "    right = n - 1\n",
        "\n",
        "    while left <= right:\n",
        "        mid = (left + right) // 2\n",
        "        if n_list[mid] == target:\n",
        "            return True\n",
        "\n",
        "        if target < n_list[mid]:\n",
        "            right = mid-1\n",
        "        elif target > n_list[mid]:\n",
        "            left = mid + 1\n",
        "\n",
        "\n",
        "for i in range(m):\n",
        "    if binary(targets[i]):\n",
        "        print(1)\n",
        "    else:\n",
        "        print(0)"
      ]
    }
  ]
}