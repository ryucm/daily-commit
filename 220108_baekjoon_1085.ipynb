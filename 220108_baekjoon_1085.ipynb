{
  "nbformat": 4,
  "nbformat_minor": 0,
  "metadata": {
    "colab": {
      "name": "220108_baekjoon_1085.ipynb",
      "provenance": [],
      "authorship_tag": "ABX9TyN9vlPBnWf9xqtSLRfqRIb+",
      "include_colab_link": true
    },
    "kernelspec": {
      "name": "python3",
      "display_name": "Python 3"
    },
    "language_info": {
      "name": "python"
    }
  },
  "cells": [
    {
      "cell_type": "markdown",
      "metadata": {
        "id": "view-in-github",
        "colab_type": "text"
      },
      "source": [
        "<a href=\"https://colab.research.google.com/github/ryucm/daily-commit/blob/main/220108_baekjoon_1085.ipynb\" target=\"_parent\"><img src=\"https://colab.research.google.com/assets/colab-badge.svg\" alt=\"Open In Colab\"/></a>"
      ]
    },
    {
      "cell_type": "markdown",
      "source": [
        "\n",
        "1085번\n",
        "\n",
        "직사각형에서 탈출\n",
        "\n",
        "문제\n",
        "\n",
        "한수는 지금 (x, y)에 있다. 직사각형은 각 변이 좌표축에 평행하고, 왼쪽 아래 꼭짓점은 (0, 0), 오른쪽 위 꼭짓점은 (w, h)에 있다. 직사각형의 경계선까지 가는 거리의 최솟값을 구하는 프로그램을 작성하시오.\n",
        "\n",
        "입력\n",
        "\n",
        "첫째 줄에 x, y, w, h가 주어진다.\n",
        "\n",
        "출력\n",
        "\n",
        "첫째 줄에 문제의 정답을 출력한다.\n",
        "\n",
        "제한\n",
        "1 ≤ w, h ≤ 1,000\n",
        "\n",
        "1 ≤ x ≤ w-1\n",
        "\n",
        "1 ≤ y ≤ h-1\n",
        "\n",
        "x, y, w, h는 정수\n",
        "\n",
        "예제 \n",
        "\n",
        "입력 1 \n",
        "\n",
        "6 2 10 3\n",
        "예제 \n",
        "\n",
        "출력 1 \n",
        "\n",
        "1\n",
        "\n",
        "예제 \n",
        "\n",
        "입력 2 \n",
        "\n",
        "1 1 5 5\n",
        "\n",
        "예제 \n",
        "\n",
        "출력 2 \n",
        "\n",
        "1\n",
        "\n",
        "예제 \n",
        "\n",
        "입력 3 \n",
        "\n",
        "653 375 1000 1000\n",
        "\n",
        "예제 \n",
        "\n",
        "출력 3 \n",
        "\n",
        "347\n",
        "\n",
        "예제 \n",
        "\n",
        "입력 4 \n",
        "\n",
        "161 181 762 375\n",
        "\n",
        "예제 \n",
        "\n",
        "출력 4 \n",
        "\n",
        "161"
      ],
      "metadata": {
        "id": "2EgQ42eNqmeA"
      }
    },
    {
      "cell_type": "code",
      "execution_count": 2,
      "metadata": {
        "colab": {
          "base_uri": "https://localhost:8080/"
        },
        "id": "a7HynamJqhIl",
        "outputId": "bf7cc415-4d77-4bbc-fad8-474cb2fa37d6"
      },
      "outputs": [
        {
          "output_type": "stream",
          "name": "stdout",
          "text": [
            "6 2 10 3\n",
            "1\n"
          ]
        }
      ],
      "source": [
        "x,y,w,h = map(int,input().split())\n",
        "print(min([x,y,w-x,h-y]))"
      ]
    },
    {
      "cell_type": "markdown",
      "source": [
        "처음으로 다른 사람들처럼 숏코딩을 하였고 성공했다. 뿌듯뿌듯!!\n"
      ],
      "metadata": {
        "id": "kkFW5ZFeztFf"
      }
    }
  ]
}