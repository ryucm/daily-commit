{
  "nbformat": 4,
  "nbformat_minor": 0,
  "metadata": {
    "colab": {
      "name": "220105_baekjoon_2908.ipynb",
      "provenance": [],
      "authorship_tag": "ABX9TyPFUnM7IgMx1v859fq7p+x4",
      "include_colab_link": true
    },
    "kernelspec": {
      "name": "python3",
      "display_name": "Python 3"
    },
    "language_info": {
      "name": "python"
    },
    "accelerator": "GPU"
  },
  "cells": [
    {
      "cell_type": "markdown",
      "metadata": {
        "id": "view-in-github",
        "colab_type": "text"
      },
      "source": [
        "<a href=\"https://colab.research.google.com/github/ryucm/daily-commit/blob/main/220105_baekjoon_2908.ipynb\" target=\"_parent\"><img src=\"https://colab.research.google.com/assets/colab-badge.svg\" alt=\"Open In Colab\"/></a>"
      ]
    },
    {
      "cell_type": "markdown",
      "source": [
        "상수\n",
        "\n",
        "문제\n",
        "\n",
        "상근이의 동생 상수는 수학을 정말 못한다. 상수는 숫자를 읽는데 문제가 있다. 이렇게 수학을 못하는 상수를 위해서 상근이는 수의 크기를 비교하는 문제를 내주었다. 상근이는 세 자리 수 두 개를 칠판에 써주었다. 그 다음에 크기가 큰 수를 말해보라고 했다.\n",
        "\n",
        "\n",
        "상수는 수를 다른 사람과 다르게 거꾸로 읽는다. 예를 들어, 734와 893을 칠판에 적었다면, 상수는 이 수를 437과 398로 읽는다. 따라서, 상수는 두 수중 큰 수인 437을 큰 수라고 말할 것이다.\n",
        "\n",
        "\n",
        "두 수가 주어졌을 때, 상수의 대답을 출력하는 프로그램을 작성하시오.\n",
        "\n",
        "\n",
        "입력\n",
        "\n",
        "첫째 줄에 상근이가 칠판에 적은 두 수 A와 B가 주어진다. 두 수는 같지 않은 세 자리 수이며, 0이 포함되어 있지 않다.\n",
        "\n",
        "\n",
        "출력\n",
        "\n",
        "첫째 줄에 상수의 대답을 출력한다.\n",
        "\n",
        "\n",
        "\n",
        "예제 입력 1 \n",
        "\n",
        "734 893\n",
        "\n",
        "예제 출력 1 \n",
        "\n",
        "437\n",
        "\n",
        "예제 입력 2 \n",
        "\n",
        "221 231\n",
        "\n",
        "예제 출력 2 \n",
        "\n",
        "132\n",
        "\n",
        "예제 입력 3 \n",
        "\n",
        "839 237\n",
        "\n",
        "예제 출력 3 \n",
        "\n",
        "938"
      ],
      "metadata": {
        "id": "j5xXJQoLnr_S"
      }
    },
    {
      "cell_type": "code",
      "source": [
        "a, b = input().split()\n",
        "a = int(''.join(list(reversed(a))))\n",
        "b = int(''.join(list(reversed(b))))\n",
        "print(max(a,b))"
      ],
      "metadata": {
        "id": "UA65cHP1dzjG",
        "colab": {
          "base_uri": "https://localhost:8080/"
        },
        "outputId": "f56e897d-9b12-4652-aa1f-1b9d0d58a05a"
      },
      "execution_count": 9,
      "outputs": [
        {
          "output_type": "stream",
          "name": "stdout",
          "text": [
            "734 292\n",
            "437\n"
          ]
        }
      ]
    },
    {
      "cell_type": "code",
      "source": [
        "a, b = input().split()\n",
        "a = int(''.join(list(reversed(a)))) #문자열을 뒤집어주고 리스트로 변환, 다시 결합한다.\n",
        "b = int(''.join(list(reversed(b))))\n",
        "print(a if a > b else b)"
      ],
      "metadata": {
        "colab": {
          "base_uri": "https://localhost:8080/"
        },
        "id": "vV_zSO_Xmkgt",
        "outputId": "4543059e-1aef-4ff3-fa19-6104ca349c7a"
      },
      "execution_count": 10,
      "outputs": [
        {
          "output_type": "stream",
          "name": "stdout",
          "text": [
            "734 292\n",
            "437\n"
          ]
        }
      ]
    },
    {
      "cell_type": "code",
      "source": [
        "print(max([int(i[::-1]) for i in input().split()]))"
      ],
      "metadata": {
        "colab": {
          "base_uri": "https://localhost:8080/"
        },
        "id": "Pc409du7nmVl",
        "outputId": "dbbbb8dc-d6d2-4632-f4ce-0ab7d6000af0"
      },
      "execution_count": 12,
      "outputs": [
        {
          "output_type": "stream",
          "name": "stdout",
          "text": [
            "734 292\n",
            "437\n"
          ]
        }
      ]
    }
  ]
}