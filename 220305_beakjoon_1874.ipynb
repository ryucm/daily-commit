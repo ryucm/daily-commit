{
  "nbformat": 4,
  "nbformat_minor": 0,
  "metadata": {
    "colab": {
      "name": "220305_beakjoon_1874",
      "provenance": [],
      "authorship_tag": "ABX9TyNAtkRlwFF8Nkx2Ze79Nh6P",
      "include_colab_link": true
    },
    "kernelspec": {
      "name": "python3",
      "display_name": "Python 3"
    },
    "language_info": {
      "name": "python"
    }
  },
  "cells": [
    {
      "cell_type": "markdown",
      "metadata": {
        "id": "view-in-github",
        "colab_type": "text"
      },
      "source": [
        "<a href=\"https://colab.research.google.com/github/ryucm/daily-commit/blob/main/220305_beakjoon_1874.ipynb\" target=\"_parent\"><img src=\"https://colab.research.google.com/assets/colab-badge.svg\" alt=\"Open In Colab\"/></a>"
      ]
    },
    {
      "cell_type": "code",
      "execution_count": 12,
      "metadata": {
        "colab": {
          "base_uri": "https://localhost:8080/"
        },
        "id": "LyZd_IAKJjbH",
        "outputId": "d2102a84-0f63-4189-ed65-cf2e9c560a9d"
      },
      "outputs": [
        {
          "output_type": "stream",
          "name": "stdout",
          "text": [
            "5\n",
            "1\n",
            "2\n",
            "5\n",
            "3\n",
            "4\n",
            "No\n"
          ]
        }
      ],
      "source": [
        "n = int(input())\n",
        "\n",
        "#stack을 만들기 위해 list 초기화 해준다.\n",
        "stack = []\n",
        "\n",
        "#push, pop의 결과를 넣기 위해 list를 초기화 해준다.\n",
        "result = []\n",
        "\n",
        "#count를 초기화한다.\n",
        "count = 0\n",
        "\n",
        "#불가능한 경우를 표시하기 위해 True를 설정한다.\n",
        "possible = True\n",
        "\n",
        "for i in range(1,n+1):\n",
        "  \n",
        "  num = int(input())\n",
        "  \n",
        "  while count < num:\n",
        "    count += 1\n",
        "    stack.append(count)\n",
        "    result.append('+')\n",
        "\n",
        "  if stack[-1] == num:\n",
        "    stack.pop()\n",
        "    result.append('-')\n",
        "    \n",
        "  else:\n",
        "    possible = False\n",
        "\n",
        "\n",
        "if possible == False:\n",
        "  print('NO')\n",
        "else:\n",
        "  for i in result:\n",
        "    print(i)\n",
        "  \n",
        "\n"
      ]
    }
  ]
}