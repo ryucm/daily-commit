{
  "nbformat": 4,
  "nbformat_minor": 0,
  "metadata": {
    "colab": {
      "name": "220110_baekjoon_1436.ipynb",
      "provenance": [],
      "authorship_tag": "ABX9TyM4+MODF3+PO/Py9a2100FP",
      "include_colab_link": true
    },
    "kernelspec": {
      "name": "python3",
      "display_name": "Python 3"
    },
    "language_info": {
      "name": "python"
    }
  },
  "cells": [
    {
      "cell_type": "markdown",
      "metadata": {
        "id": "view-in-github",
        "colab_type": "text"
      },
      "source": [
        "<a href=\"https://colab.research.google.com/github/ryucm/daily-commit/blob/main/220110_baekjoon_1436.ipynb\" target=\"_parent\"><img src=\"https://colab.research.google.com/assets/colab-badge.svg\" alt=\"Open In Colab\"/></a>"
      ]
    },
    {
      "cell_type": "markdown",
      "source": [
        "영화감독 숌 \n",
        "\n",
        "문제\n",
        "\n",
        "666은 종말을 나타내는 숫자라고 한다. 따라서, 많은 블록버스터 영화에서는 666이 들어간 제목을 많이 사용한다. 영화감독 숌은 세상의 종말 이라는 시리즈 영화의 감독이다. 조지 루카스는 스타워즈를 만들 때, 스타워즈 1, 스타워즈 2, 스타워즈 3, 스타워즈 4, 스타워즈 5, 스타워즈 6과 같이 이름을 지었고, 피터 잭슨은 반지의 제왕을 만들 때, 반지의 제왕 1, 반지의 제왕 2, 반지의 제왕 3과 같이 영화 제목을 지었다.\n",
        "\n",
        "하지만 숌은 자신이 조지 루카스와 피터 잭슨을 뛰어넘는다는 것을 보여주기 위해서 영화 제목을 좀 다르게 만들기로 했다.\n",
        "\n",
        "종말의 숫자란 어떤 수에 6이 적어도 3개이상 연속으로 들어가는 수를 말한다. 제일 작은 종말의 숫자는 666이고, 그 다음으로 큰 수는 1666, 2666, 3666, .... 과 같다.\n",
        "\n",
        "따라서, 숌은 첫 번째 영화의 제목은 세상의 종말 666, 두 번째 영화의 제목은 세상의 종말 1666 이렇게 이름을 지을 것이다. 일반화해서 생각하면, N번째 영화의 제목은 세상의 종말 (N번째로 작은 종말의 숫자) 와 같다.\n",
        "\n",
        "숌이 만든 N번째 영화의 제목에 들어간 숫자를 출력하는 프로그램을 작성하시오. 숌은 이 시리즈를 항상 차례대로 만들고, 다른 영화는 만들지 않는다.\n",
        "\n",
        "입력\n",
        "\n",
        "첫째 줄에 숫자 N이 주어진다. N은 10,000보다 작거나 같은 자연수이다.\n",
        "\n",
        "출력\n",
        "\n",
        "첫째 줄에 N번째 영화의 제목에 들어간 수를 출력한다.\n",
        "\n",
        "예제 입력 1 \n",
        "\n",
        "2\n",
        "\n",
        "예제 출력 1 \n",
        "\n",
        "1666\n",
        "\n",
        "예제 입력 2 \n",
        "\n",
        "3\n",
        "\n",
        "예제 출력 2 \n",
        "\n",
        "2666\n",
        "\n",
        "예제 입력 3 \n",
        "\n",
        "6\n",
        "\n",
        "예제 출력 3 \n",
        "\n",
        "5666\n",
        "\n",
        "예제 입력 4 \n",
        "\n",
        "187\n",
        "\n",
        "예제 출력 4 \n",
        "\n",
        "66666\n",
        "\n",
        "예제 입력 5 \n",
        "\n",
        "500\n",
        "\n",
        "예제 출력 5 \n",
        "\n",
        "166699"
      ],
      "metadata": {
        "id": "UC99jSgvfC1k"
      }
    },
    {
      "cell_type": "code",
      "execution_count": 6,
      "metadata": {
        "colab": {
          "base_uri": "https://localhost:8080/"
        },
        "id": "qam52RE-cO9C",
        "outputId": "7d4bb0f3-2645-4cbb-c18a-836b6f309332"
      },
      "outputs": [
        {
          "output_type": "stream",
          "name": "stdout",
          "text": [
            "500\n",
            "166699\n"
          ]
        }
      ],
      "source": [
        "num = int(input())\n",
        "\n",
        "i = 0\n",
        "result = []\n",
        "while len(result) <= 10000: # result의 길이를 10000까지 제한한다. => 입력받는 값이 10000이하이므로.\n",
        "  if '666' in str(i): #666이 들어간 숫자들로 제한한다.\n",
        "    result.append(int(i)) #위 조건문의 숫자들을 result에 넣어준다.\n",
        "  i += 1\n",
        "print(result[num-1])\n"
      ]
    }
  ]
}