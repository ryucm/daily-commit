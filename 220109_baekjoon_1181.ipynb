{
  "nbformat": 4,
  "nbformat_minor": 0,
  "metadata": {
    "colab": {
      "name": "220109_baekjoon_1181.ipynb",
      "provenance": [],
      "authorship_tag": "ABX9TyM7vHCo4gzh7EMmIFgGppBl",
      "include_colab_link": true
    },
    "kernelspec": {
      "name": "python3",
      "display_name": "Python 3"
    },
    "language_info": {
      "name": "python"
    },
    "accelerator": "GPU"
  },
  "cells": [
    {
      "cell_type": "markdown",
      "metadata": {
        "id": "view-in-github",
        "colab_type": "text"
      },
      "source": [
        "<a href=\"https://colab.research.google.com/github/ryucm/daily-commit/blob/main/220109_baekjoon_1181.ipynb\" target=\"_parent\"><img src=\"https://colab.research.google.com/assets/colab-badge.svg\" alt=\"Open In Colab\"/></a>"
      ]
    },
    {
      "cell_type": "markdown",
      "source": [
        "단어 정렬 \n",
        "\n",
        "문제\n",
        "\n",
        "알파벳 소문자로 이루어진 N개의 단어가 들어오면 아래와 같은 조건에 따라 정렬하는 프로그램을 작성하시오.\n",
        "\n",
        "1. 길이가 짧은 것부터\n",
        "\n",
        "2. 길이가 같으면 사전 순으로\n",
        "\n",
        "입력\n",
        "\n",
        "첫째 줄에 단어의 개수 N이 주어진다. (1 ≤ N ≤ 20,000) 둘째 줄부터 N개의 줄에 걸쳐 알파벳 소문자로 이루어진 단어가 한 줄에 하나씩 주어진다. 주어지는 문자열의 길이는 50을 넘지 않는다.\n",
        "\n",
        "출력\n",
        "\n",
        "조건에 따라 정렬하여 단어들을 출력한다. 단, 같은 단어가 여러 번 입력된 경우에는 한 번씩만 출력한다.\n",
        "\n",
        "예제 \n",
        "\n",
        "입력 1 \n",
        "\n",
        "13\n",
        "\n",
        "but\n",
        "\n",
        "i\n",
        "\n",
        "wont\n",
        "\n",
        "hesitate\n",
        "\n",
        "no\n",
        "\n",
        "more\n",
        "\n",
        "no\n",
        "\n",
        "more\n",
        "\n",
        "it\n",
        "\n",
        "cannot\n",
        "\n",
        "wait\n",
        "\n",
        "im\n",
        "\n",
        "yours\n",
        "\n",
        "예제 \n",
        "\n",
        "출력 1 \n",
        "\n",
        "i\n",
        "\n",
        "im\n",
        "\n",
        "it\n",
        "\n",
        "no\n",
        "\n",
        "but\n",
        "\n",
        "more\n",
        "\n",
        "wait\n",
        "\n",
        "wont\n",
        "\n",
        "yours\n",
        "\n",
        "cannot\n",
        "\n",
        "hesitate\n"
      ],
      "metadata": {
        "id": "qknsGjZI4dY3"
      }
    },
    {
      "cell_type": "code",
      "execution_count": 27,
      "metadata": {
        "colab": {
          "base_uri": "https://localhost:8080/"
        },
        "id": "pbEn-6V_0oLC",
        "outputId": "b6f23127-2925-4bf9-d0fc-a54023e85489"
      },
      "outputs": [
        {
          "output_type": "stream",
          "name": "stdout",
          "text": [
            "4\n",
            "zzzzzzzz\n",
            "ab\n",
            "ai\n",
            "sdsdsd\n",
            "['ai', 'sdsdsd', 'ab', 'zzzzzzzz']\n"
          ]
        },
        {
          "output_type": "execute_result",
          "data": {
            "text/plain": [
              "['ab', 'ai', 'sdsdsd', 'zzzzzzzz']"
            ]
          },
          "metadata": {},
          "execution_count": 27
        }
      ],
      "source": [
        "data = list(set(input() for i in range(int(input()))))\n",
        "\n",
        "# 첫 번째 조건 = 길이가 짧은 것부터\n",
        "# 두 번째 조건 = 길이가 같으면 사전 순으로\n",
        "data.sort()\n",
        "data.sort(key=len)\n",
        "for i in data:\n",
        "  print(i)\n"
      ]
    }
  ]
}