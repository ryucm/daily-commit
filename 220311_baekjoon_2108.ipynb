{
  "nbformat": 4,
  "nbformat_minor": 0,
  "metadata": {
    "colab": {
      "name": "220311_baekjoon_2108",
      "provenance": [],
      "authorship_tag": "ABX9TyMaRcV9NDUCAVL1MrjOvkyl",
      "include_colab_link": true
    },
    "kernelspec": {
      "name": "python3",
      "display_name": "Python 3"
    },
    "language_info": {
      "name": "python"
    }
  },
  "cells": [
    {
      "cell_type": "markdown",
      "metadata": {
        "id": "view-in-github",
        "colab_type": "text"
      },
      "source": [
        "<a href=\"https://colab.research.google.com/github/ryucm/daily-commit/blob/main/220311_baekjoon_2108.ipynb\" target=\"_parent\"><img src=\"https://colab.research.google.com/assets/colab-badge.svg\" alt=\"Open In Colab\"/></a>"
      ]
    },
    {
      "cell_type": "code",
      "execution_count": 22,
      "metadata": {
        "colab": {
          "base_uri": "https://localhost:8080/"
        },
        "id": "ZuCxctOVyjGT",
        "outputId": "52515f17-fb01-4a91-ddf6-b76024b99d42"
      },
      "outputs": [
        {
          "output_type": "stream",
          "name": "stdout",
          "text": [
            "5\n",
            "1\n",
            "3\n",
            "8\n",
            "-2\n",
            "2\n",
            "2\n",
            "2\n",
            "[(-2, 1), (1, 1), (2, 1), (3, 1), (8, 1)]\n",
            "1\n",
            "10\n"
          ]
        }
      ],
      "source": [
        "from collections import Counter\n",
        "import sys\n",
        "N = int(sys.stdin.readline())\n",
        "num = sorted([int(sys.stdin.readline()) for i in range(N)])\n",
        "\n",
        "print(round(sum(num)/N))\n",
        "print(num[N//2])\n",
        "\n",
        "counter = Counter(num).most_common()\n",
        "# print(counter)\n",
        "if len(num) > 2:\n",
        "  if counter[0][1] == counter[1][1]:\n",
        "    print(counter[1][0])\n",
        "  else:\n",
        "    print(counter[0][0])\n",
        "else:\n",
        "  print(counter[0][0])\n",
        "\n",
        "print(num[-1]-num[0])"
      ]
    }
  ]
}