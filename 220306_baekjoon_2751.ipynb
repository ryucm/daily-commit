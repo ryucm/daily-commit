{
  "nbformat": 4,
  "nbformat_minor": 0,
  "metadata": {
    "colab": {
      "name": "220306_baekjoon_2751",
      "provenance": [],
      "authorship_tag": "ABX9TyPDkl16LTTo0U9jh4IPzwZw",
      "include_colab_link": true
    },
    "kernelspec": {
      "name": "python3",
      "display_name": "Python 3"
    },
    "language_info": {
      "name": "python"
    }
  },
  "cells": [
    {
      "cell_type": "markdown",
      "metadata": {
        "id": "view-in-github",
        "colab_type": "text"
      },
      "source": [
        "<a href=\"https://colab.research.google.com/github/ryucm/daily-commit/blob/main/220306_baekjoon_2751.ipynb\" target=\"_parent\"><img src=\"https://colab.research.google.com/assets/colab-badge.svg\" alt=\"Open In Colab\"/></a>"
      ]
    },
    {
      "cell_type": "code",
      "execution_count": 15,
      "metadata": {
        "colab": {
          "base_uri": "https://localhost:8080/"
        },
        "id": "kEOSxLscfV1X",
        "outputId": "0965b095-2901-4186-a8fe-c59290b392ae"
      },
      "outputs": [
        {
          "output_type": "stream",
          "name": "stdout",
          "text": [
            "5\n",
            "5\n",
            "4\n",
            "3\n",
            "2\n",
            "1\n",
            "1\n",
            "2\n",
            "3\n",
            "4\n",
            "5\n"
          ]
        }
      ],
      "source": [
        "N = int(input())\n",
        "array = []\n",
        "for _ in range(N):\n",
        "  array.append(int(input()))\n",
        "\n",
        "#print('\\n'.join(sorted(array))) join은 str 형태만 가능하였다..\n",
        "for i in sorted(array):\n",
        "  print(i)"
      ]
    }
  ]
}