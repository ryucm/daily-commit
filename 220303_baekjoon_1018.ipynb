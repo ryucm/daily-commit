{
  "cells": [
    {
      "cell_type": "markdown",
      "metadata": {
        "id": "view-in-github",
        "colab_type": "text"
      },
      "source": [
        "<a href=\"https://colab.research.google.com/github/ryucm/daily-commit/blob/main/220303_baekjoon_1018.ipynb\" target=\"_parent\"><img src=\"https://colab.research.google.com/assets/colab-badge.svg\" alt=\"Open In Colab\"/></a>"
      ]
    },
    {
      "cell_type": "code",
      "execution_count": null,
      "metadata": {
        "id": "zE3Qp8NfPHKe",
        "outputId": "c30fca9f-9f39-46b3-a43a-4de31be616a3"
      },
      "outputs": [
        {
          "name": "stdout",
          "output_type": "stream",
          "text": [
            "12\n"
          ]
        }
      ],
      "source": [
        "N,M = map(int, input().split())\n",
        "matrix = []\n",
        "for i in range(N):\n",
        "    matrix.append(input())\n",
        "\n",
        "result = []\n",
        "\n",
        "for i in range(N-7):\n",
        "    for j in range(M-7):\n",
        "        least_W = 0\n",
        "        least_B = 0\n",
        "        for check1 in range(i,i+8):\n",
        "            for check2 in range(j,j+8):\n",
        "                if (check1+check2) % 2 ==0:\n",
        "                    if matrix[check1][check2] != 'W':\n",
        "                        least_W += 1\n",
        "                    if matrix[check1][check2] != 'B':\n",
        "                        least_B += 1\n",
        "                else:\n",
        "                    if matrix[check1][check2] != 'W':\n",
        "                        least_B += 1\n",
        "                    if matrix[check1][check2] != 'B':\n",
        "                        least_W += 1\n",
        "        result.append(min(least_B,least_W))\n",
        "        \n",
        "print(min(result))\n",
        "                "
      ]
    }
  ],
  "metadata": {
    "interpreter": {
      "hash": "1cc8433100aa71f7495a33a435bc4f658607ccd80f7d368c5886bd6e85872474"
    },
    "kernelspec": {
      "display_name": "Python 3.8.12 64-bit ('test': conda)",
      "language": "python",
      "name": "python3"
    },
    "language_info": {
      "codemirror_mode": {
        "name": "ipython",
        "version": 3
      },
      "file_extension": ".py",
      "mimetype": "text/x-python",
      "name": "python",
      "nbconvert_exporter": "python",
      "pygments_lexer": "ipython3",
      "version": "3.8.12"
    },
    "orig_nbformat": 4,
    "colab": {
      "name": "220303_baekjoon_1018.ipynb",
      "provenance": [],
      "include_colab_link": true
    }
  },
  "nbformat": 4,
  "nbformat_minor": 0
}