{
  "nbformat": 4,
  "nbformat_minor": 0,
  "metadata": {
    "colab": {
      "name": "220112_baekjoon_4153",
      "provenance": [],
      "authorship_tag": "ABX9TyOXF/Ci9mvmH9QULdwI4Upr",
      "include_colab_link": true
    },
    "kernelspec": {
      "name": "python3",
      "display_name": "Python 3"
    },
    "language_info": {
      "name": "python"
    }
  },
  "cells": [
    {
      "cell_type": "markdown",
      "metadata": {
        "id": "view-in-github",
        "colab_type": "text"
      },
      "source": [
        "<a href=\"https://colab.research.google.com/github/ryucm/daily-commit/blob/main/220112_baekjoon_4153.ipynb\" target=\"_parent\"><img src=\"https://colab.research.google.com/assets/colab-badge.svg\" alt=\"Open In Colab\"/></a>"
      ]
    },
    {
      "cell_type": "markdown",
      "source": [
        "직각삼각형 \n",
        "\n",
        "문제\n",
        "\n",
        "과거 이집트인들은 각 변들의 길이가 3, 4, 5인 삼각형이 직각 삼각형인것을 알아냈다. 주어진 세변의 길이로 삼각형이 직각인지 아닌지 구분하시오.\n",
        "\n",
        "입력\n",
        "\n",
        "입력은 여러개의 테스트케이스로 주어지며 마지막줄에는 0 0 0이 입력된다. 각 테스트케이스는 모두 30,000보다 작은 양의 정수로 주어지며, 각 입력은 변의 길이를 의미한다.\n",
        "\n",
        "출력\n",
        "\n",
        "각 입력에 대해 직각 삼각형이 맞다면 \"right\", 아니라면 \"wrong\"을 출력한다.\n",
        "\n",
        "예제 입력 1 \n",
        "\n",
        "6 8 10\n",
        "\n",
        "25 52 60\n",
        "\n",
        "5 12 13\n",
        "\n",
        "0 0 0\n",
        "\n",
        "예제 출력 1 \n",
        "\n",
        "right\n",
        "\n",
        "wrong\n",
        "\n",
        "right"
      ],
      "metadata": {
        "id": "6lvJ1cE6lBVl"
      }
    },
    {
      "cell_type": "code",
      "execution_count": 12,
      "metadata": {
        "colab": {
          "base_uri": "https://localhost:8080/"
        },
        "id": "5EWQWRECg5AW",
        "outputId": "1067fed2-2f49-4f49-cf37-73f740eb7e6c"
      },
      "outputs": [
        {
          "name": "stdout",
          "output_type": "stream",
          "text": [
            "3 4 5\n",
            "right\n",
            "2 4 5\n",
            "wrong\n",
            "5 12 13\n",
            "right\n",
            "0 0 0\n"
          ]
        }
      ],
      "source": [
        "while True:\n",
        "  num = list(map(int,input().split()))\n",
        "  if sum(num) == 0:\n",
        "    break\n",
        "  elif (num[0]**2+num[1]**2 == num[2]**2) | (num[1]**2+num[2]**2 == num[0]**2) | (num[2]**2+num[0]**2 == num[1]**2):\n",
        "    print('right')\n",
        "  else:\n",
        "    print('wrong')\n"
      ]
    }
  ]
}