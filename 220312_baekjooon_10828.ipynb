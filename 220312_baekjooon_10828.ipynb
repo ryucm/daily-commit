{
  "nbformat": 4,
  "nbformat_minor": 0,
  "metadata": {
    "colab": {
      "name": "220312_baekjooon_10828",
      "provenance": [],
      "authorship_tag": "ABX9TyNn13mzVCzXBWDJTecrqPl+",
      "include_colab_link": true
    },
    "kernelspec": {
      "name": "python3",
      "display_name": "Python 3"
    },
    "language_info": {
      "name": "python"
    }
  },
  "cells": [
    {
      "cell_type": "markdown",
      "metadata": {
        "id": "view-in-github",
        "colab_type": "text"
      },
      "source": [
        "<a href=\"https://colab.research.google.com/github/ryucm/daily-commit/blob/main/220312_baekjooon_10828.ipynb\" target=\"_parent\"><img src=\"https://colab.research.google.com/assets/colab-badge.svg\" alt=\"Open In Colab\"/></a>"
      ]
    },
    {
      "cell_type": "code",
      "execution_count": 5,
      "metadata": {
        "colab": {
          "base_uri": "https://localhost:8080/"
        },
        "id": "CfZIyOYMycPR",
        "outputId": "6c6eab15-fce0-43c5-e8a2-725f64bd9a69"
      },
      "outputs": [
        {
          "output_type": "stream",
          "name": "stdout",
          "text": [
            "5\n",
            "push 1\n",
            "push 2\n",
            "top\n",
            "2\n",
            "size\n",
            "2\n",
            "empty\n",
            "0\n"
          ]
        }
      ],
      "source": [
        "import sys\n",
        "\n",
        "# 각 조건에 맞는 함수들을 정의해준다.\n",
        "def push(list, num):\n",
        "  list.append(num)\n",
        "\n",
        "def pops(list, num=0):\n",
        "  if list:\n",
        "    print(list.pop())\n",
        "  else:\n",
        "    print(-1)\n",
        "\n",
        "\n",
        "def size(list, num = 0):\n",
        "  print(len(list))\n",
        "\n",
        "def empty(list, num = 0):\n",
        "  if len(list) > 0 :\n",
        "    print(0)\n",
        "  else:\n",
        "    print(1)\n",
        "\n",
        "def top(list, num = 0):\n",
        "  if list:\n",
        "    print(list[-1])\n",
        "  else:\n",
        "    print(-1)\n",
        "\n",
        "#함수의 호출을 빨리 하기 위해 dict로 정의한다.\n",
        "orders = {\n",
        "    'push':push, 'pop':pops, 'size':size, 'empty':empty, 'top':top\n",
        "    }\n",
        "que = []\n",
        "N = int(sys.stdin.readline())\n",
        "for i in range(N):\n",
        "  order = list(sys.stdin.readline().split())\n",
        "  orders[order[0]](que, order[-1])\n",
        "\n"
      ]
    }
  ]
}